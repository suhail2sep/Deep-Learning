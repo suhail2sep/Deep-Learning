{
  "nbformat": 4,
  "nbformat_minor": 0,
  "metadata": {
    "colab": {
      "provenance": []
    },
    "kernelspec": {
      "name": "python3",
      "display_name": "Python 3"
    },
    "language_info": {
      "name": "python"
    }
  },
  "cells": [
    {
      "cell_type": "code",
      "execution_count": 7,
      "metadata": {
        "id": "vsvCJo23s2U6"
      },
      "outputs": [],
      "source": [
        "import torch\n",
        "import torchvision\n",
        "from torchvision import datasets, transforms\n",
        "from torch.utils.data import DataLoader"
      ]
    },
    {
      "cell_type": "markdown",
      "source": [
        "# **Step-2**"
      ],
      "metadata": {
        "id": "Mp8g8UDY9oRx"
      }
    },
    {
      "cell_type": "markdown",
      "source": [
        "**Loading the Dataset**"
      ],
      "metadata": {
        "id": "2NQBgh3--JIB"
      }
    },
    {
      "cell_type": "code",
      "source": [
        "transform = transforms.Compose([\n",
        "    transforms.ToTensor(),\n",
        "    transforms.Normalize((0.5,), (0.5,))\n",
        "])\n",
        "\n",
        "# Load QMNIST dataset and preprocess\n",
        "train_dataset = datasets.QMNIST(root='./data', train=True, download=True, transform=transform)\n",
        "test_dataset = datasets.QMNIST(root='./data', train=False, download=True, transform=transform)\n",
        "\n",
        "# Create data loaders\n",
        "train_loader = DataLoader(train_dataset, batch_size=64, shuffle=True)\n",
        "test_loader = DataLoader(test_dataset, batch_size=64, shuffle=False)"
      ],
      "metadata": {
        "id": "La9jV5F50Ime"
      },
      "execution_count": 13,
      "outputs": []
    },
    {
      "cell_type": "markdown",
      "source": [
        "**Visualizing the data**"
      ],
      "metadata": {
        "id": "CqujdlFT-UNs"
      }
    },
    {
      "cell_type": "code",
      "source": [
        "import matplotlib.pyplot as plt\n",
        "\n",
        "# Numeric to string label mapping\n",
        "digit_labels = {\n",
        "    0: \"Zero\", 1: \"One\", 2: \"Two\", 3: \"Three\", 4: \"Four\",\n",
        "    5: \"Five\", 6: \"Six\", 7: \"Seven\", 8: \"Eight\", 9: \"Nine\"\n",
        "}\n",
        "\n",
        "# Image processing steps\n",
        "image_transforms = transforms.Compose([\n",
        "    transforms.ToTensor(),\n",
        "    transforms.Normalize((0.5,), (0.5,))  # Added normalization\n",
        "])\n",
        "\n",
        "# Loading the QMNIST training data\n",
        "qmnist_training = datasets.QMNIST(root='./data_qmnist', train=True, download=True, transform=image_transforms)\n",
        "\n",
        "# Setting up the figure for visualization\n",
        "visual_figure = plt.figure(figsize=(10, 10))  # Adjusted figure size\n",
        "columns, rows = 3, 3  # Kept the same but can change as needed\n",
        "\n",
        "# Displaying images from the dataset\n",
        "for i in range(1, columns * rows + 1):\n",
        "    sample_index = torch.randint(len(qmnist_training), size=(1,)).item()\n",
        "    image, digit = qmnist_training[sample_index]\n",
        "    visual_figure.add_subplot(rows, columns, i)\n",
        "    plt.title(digit_labels[digit])\n",
        "    plt.axis(\"off\")\n",
        "    plt.imshow(image.squeeze(), cmap=\"gray\")  # Ensuring grayscale display\n",
        "\n",
        "plt.show()\n",
        "\n"
      ],
      "metadata": {
        "colab": {
          "base_uri": "https://localhost:8080/",
          "height": 829
        },
        "id": "a2st0sLXwEPr",
        "outputId": "7855fbb8-df11-41fd-d968-3a910bcc8b81"
      },
      "execution_count": 14,
      "outputs": [
        {
          "output_type": "display_data",
          "data": {
            "text/plain": [
              "<Figure size 1000x1000 with 9 Axes>"
            ],
            "image/png": "[encoded data removed]"
          },
          "metadata": {}
        }
      ]
    },
    {
      "cell_type": "markdown",
      "source": [
        "**Defining the neural network**"
      ],
      "metadata": {
        "id": "UiIIjS_F-w8M"
      }
    },
    {
      "cell_type": "code",
      "source": [
        "import torch\n",
        "from torch import nn\n",
        "\n",
        "# Define a custom neural network architecture\n",
        "class CustomFeedforwardNN(nn.Module):\n",
        "    def __init__(self):\n",
        "        super(CustomFeedforwardNN, self).__init__()\n",
        "        # Define the first fully connected layer\n",
        "        self.first_layer = nn.Linear(784, 128)  # 28*28 pixels input, 128 neurons\n",
        "        # Define the second fully connected layer\n",
        "        self.second_layer = nn.Linear(128, 64)  # 128 neurons, 64 neurons\n",
        "        # Define the output layer\n",
        "        self.output_layer = nn.Linear(64, 10)  # 64 neurons, 10 output classes\n",
        "\n",
        "    def forward(self, input_tensor):\n",
        "        # Flatten the input tensor to fit the input layer\n",
        "        input_tensor = input_tensor.view(-1, 784)  # Flatten the image to a vector\n",
        "        # Apply ReLU activation function after first layer\n",
        "        input_tensor = torch.relu(self.first_layer(input_tensor))\n",
        "        # Apply ReLU activation function after second layer\n",
        "        input_tensor = torch.relu(self.second_layer(input_tensor))\n",
        "        # No activation function after the output layer\n",
        "        input_tensor = self.output_layer(input_tensor)\n",
        "        return input_tensor\n",
        "\n",
        "# Initialize the custom neural network\n",
        "custom_model = CustomFeedforwardNN()\n"
      ],
      "metadata": {
        "id": "SRTjszvG0Pe5"
      },
      "execution_count": 15,
      "outputs": []
    },
    {
      "cell_type": "code",
      "source": [
        "import torch.optim as optim\n",
        "\n",
        "# Configure the loss function and optimizer for the custom model\n",
        "loss_function = nn.CrossEntropyLoss()\n",
        "model_optimizer = optim.Adam(custom_model.parameters(), lr=0.001)  # Adjusted learning rate if needed\n",
        "\n",
        "# Set the number of training epochs\n",
        "training_epochs = 10\n",
        "\n",
        "# Start the training process\n",
        "for epoch in range(training_epochs):\n",
        "    custom_model.train()  # Ensure the model is in training mode\n",
        "    total_loss = 0.0  # Accumulate loss for reporting\n",
        "\n",
        "    # Iterate over the training data\n",
        "    for batch_index, (inputs, targets) in enumerate(train_loader):\n",
        "        model_optimizer.zero_grad()  # Clear gradients for the next train steps\n",
        "        predictions = custom_model(inputs)  # Generate predictions\n",
        "        batch_loss = loss_function(predictions, targets)  # Calculate loss\n",
        "        batch_loss.backward()  # Backpropagate the error\n",
        "        model_optimizer.step()  # Adjust model parameters\n",
        "\n",
        "        total_loss += batch_loss.item()  # Update total loss\n",
        "        # Log the loss every 200 mini-batches instead of 100 for a change\n",
        "        if batch_index % 200 == 199:\n",
        "            print(f'Epoch {epoch + 1}, Batch {batch_index + 1}, Loss: {total_loss / 200:.4f}')\n",
        "            total_loss = 0.0  # Reset total loss after logging\n",
        "\n",
        "print('Training Complete')\n"
      ],
      "metadata": {
        "colab": {
          "base_uri": "https://localhost:8080/"
        },
        "id": "n-HkJ_9i0-J-",
        "outputId": "f2fe710e-0f76-456b-cd72-08b97b2141c9"
      },
      "execution_count": 16,
      "outputs": [
        {
          "output_type": "stream",
          "name": "stdout",
          "text": [
            "Epoch 1, Batch 200, Loss: 0.7204\n",
            "Epoch 1, Batch 400, Loss: 0.3526\n",
            "Epoch 1, Batch 600, Loss: 0.3063\n",
            "Epoch 1, Batch 800, Loss: 0.2600\n",
            "Epoch 2, Batch 200, Loss: 0.2190\n",
            "Epoch 2, Batch 400, Loss: 0.1895\n",
            "Epoch 2, Batch 600, Loss: 0.1782\n",
            "Epoch 2, Batch 800, Loss: 0.1641\n",
            "Epoch 3, Batch 200, Loss: 0.1385\n",
            "Epoch 3, Batch 400, Loss: 0.1364\n",
            "Epoch 3, Batch 600, Loss: 0.1361\n",
            "Epoch 3, Batch 800, Loss: 0.1218\n",
            "Epoch 4, Batch 200, Loss: 0.1135\n",
            "Epoch 4, Batch 400, Loss: 0.1095\n",
            "Epoch 4, Batch 600, Loss: 0.1073\n",
            "Epoch 4, Batch 800, Loss: 0.1015\n",
            "Epoch 5, Batch 200, Loss: 0.0894\n",
            "Epoch 5, Batch 400, Loss: 0.0823\n",
            "Epoch 5, Batch 600, Loss: 0.0894\n",
            "Epoch 5, Batch 800, Loss: 0.0959\n",
            "Epoch 6, Batch 200, Loss: 0.0753\n",
            "Epoch 6, Batch 400, Loss: 0.0704\n",
            "Epoch 6, Batch 600, Loss: 0.0758\n",
            "Epoch 6, Batch 800, Loss: 0.0768\n",
            "Epoch 7, Batch 200, Loss: 0.0668\n",
            "Epoch 7, Batch 400, Loss: 0.0734\n",
            "Epoch 7, Batch 600, Loss: 0.0690\n",
            "Epoch 7, Batch 800, Loss: 0.0675\n",
            "Epoch 8, Batch 200, Loss: 0.0596\n",
            "Epoch 8, Batch 400, Loss: 0.0577\n",
            "Epoch 8, Batch 600, Loss: 0.0681\n",
            "Epoch 8, Batch 800, Loss: 0.0673\n",
            "Epoch 9, Batch 200, Loss: 0.0506\n",
            "Epoch 9, Batch 400, Loss: 0.0664\n",
            "Epoch 9, Batch 600, Loss: 0.0448\n",
            "Epoch 9, Batch 800, Loss: 0.0592\n",
            "Epoch 10, Batch 200, Loss: 0.0503\n",
            "Epoch 10, Batch 400, Loss: 0.0505\n",
            "Epoch 10, Batch 600, Loss: 0.0504\n",
            "Epoch 10, Batch 800, Loss: 0.0548\n",
            "Training Complete\n"
          ]
        }
      ]
    },
    {
      "cell_type": "markdown",
      "source": [
        "# **Step-3**"
      ],
      "metadata": {
        "id": "UTg22Kdx-_J2"
      }
    },
    {
      "cell_type": "markdown",
      "source": [
        "**Evaluating the results**"
      ],
      "metadata": {
        "id": "OpnIXCHP_KfG"
      }
    },
    {
      "cell_type": "code",
      "source": [
        "# Set the model to evaluation mode\n",
        "custom_model.eval()\n",
        "\n",
        "# Initialize counters for correct predictions and the total number of samples\n",
        "correct_predictions = 0\n",
        "total_samples = 0\n",
        "\n",
        "# Disable gradient calculation for evaluation, which saves memory and computations\n",
        "with torch.no_grad():\n",
        "    for batch in train_loader:  # Iterate over the entire dataset\n",
        "        batch_images, batch_labels = batch  # Unpack the batch\n",
        "        batch_outputs = custom_model(batch_images)  # Get model predictions\n",
        "        _, predicted_labels = torch.max(batch_outputs.data, 1)  # Find the predicted class\n",
        "\n",
        "        total_samples += batch_labels.size(0)  # Update total sample count\n",
        "        correct_predictions += (predicted_labels == batch_labels).sum().item()  # Count correct predictions\n",
        "\n",
        "# Calculate and print the accuracy\n",
        "accuracy = correct_predictions / total_samples * 100\n",
        "print(f'Accuracy on the training set: {accuracy:.3f}%')\n"
      ],
      "metadata": {
        "colab": {
          "base_uri": "https://localhost:8080/"
        },
        "id": "j4sQvbON2C51",
        "outputId": "b6556845-5b97-4235-b715-4a1df6c8d9dd"
      },
      "execution_count": 17,
      "outputs": [
        {
          "output_type": "stream",
          "name": "stdout",
          "text": [
            "Accuracy on the training set: 98.615%\n"
          ]
        }
      ]
    },
    {
      "cell_type": "code",
      "source": [
        "# Switch the model to evaluation mode to disable dropout and batch normalization effects\n",
        "custom_model.eval()\n",
        "\n",
        "# Initialize counters for accurately predicted samples and the total count of samples\n",
        "accurate_predictions = 0\n",
        "samples_count = 0\n",
        "\n",
        "# Deactivate gradient tracking for evaluation to reduce memory consumption and computations\n",
        "with torch.no_grad():\n",
        "    for batch_data in test_loader:  # Iterate through each batch in the test dataset\n",
        "        test_images, test_labels = batch_data  # Unpack images and labels from the current batch\n",
        "        test_outputs = custom_model(test_images)  # Compute the model's predictions\n",
        "\n",
        "        # Determine the predicted class with the highest score for each image\n",
        "        _, predictions = torch.max(test_outputs.data, 1)\n",
        "\n",
        "        # Update the total number of samples processed\n",
        "        samples_count += test_labels.size(0)\n",
        "\n",
        "        # Increment the count of correct predictions\n",
        "        accurate_predictions += (predictions == test_labels).sum().item()\n",
        "\n",
        "# Calculate the overall accuracy by dividing the number of correct predictions by the total number of samples\n",
        "accuracy_percentage = (accurate_predictions / samples_count) * 100\n",
        "\n",
        "# Display the calculated accuracy on the test set\n",
        "print(f'Accuracy on the test set: {accuracy_percentage:.3f}%')\n"
      ],
      "metadata": {
        "colab": {
          "base_uri": "https://localhost:8080/"
        },
        "id": "6Sl89YFD2YXJ",
        "outputId": "240bd43b-ef4d-4936-e05f-262109b6cf4f"
      },
      "execution_count": 18,
      "outputs": [
        {
          "output_type": "stream",
          "name": "stdout",
          "text": [
            "Accuracy on the test set: 97.170%\n"
          ]
        }
      ]
    },
    {
      "cell_type": "code",
      "source": [
        "# Assuming 'model_predictions' contains predicted labels from the previous code snippet\n",
        "# and 'test_loader' was used to obtain 'images' and 'labels'\n",
        "\n",
        "# Select the first test image and its corresponding label for demonstration\n",
        "test_image, actual_label = images[0], labels[0]\n",
        "\n",
        "# Reshape the test image to its original 2D shape (28x28 for MNIST)\n",
        "reshaped_test_image = test_image.view(28, 28)\n",
        "\n",
        "# Convert the reshaped test image to a numpy array for plotting\n",
        "image_for_plot = reshaped_test_image.numpy()\n",
        "\n",
        "# Display the test image\n",
        "plt.imshow(image_for_plot, cmap='gray')  # Use grayscale color map for visualization\n",
        "# Title with predicted and actual label. Assuming the first prediction corresponds to the first test image\n",
        "plt.title(f'Predicted Label: {model_predictions[0]}, Actual Label: {actual_label.item()}')\n",
        "plt.axis('off')  # Hide axes for better visual presentation\n",
        "plt.show()\n",
        "\n"
      ],
      "metadata": {
        "colab": {
          "base_uri": "https://localhost:8080/",
          "height": 428
        },
        "id": "q4PJxJjY2wBe",
        "outputId": "24820373-3248-48a6-c637-5784a32e0d4f"
      },
      "execution_count": 20,
      "outputs": [
        {
          "output_type": "display_data",
          "data": {
            "text/plain": [
              "<Figure size 640x480 with 1 Axes>"
            ],
            "image/png": "[encoded data removed]"
          },
          "metadata": {}
        }
      ]
    },
    {
      "cell_type": "markdown",
      "source": [
        "**Accuracy of training set=98.61**\n",
        "**Accuracy of testing data=97.17**"
      ],
      "metadata": {
        "id": "KmmAkpwm_Y4E"
      }
    },
    {
      "cell_type": "markdown",
      "source": [
        "# **Step-4**\n"
      ],
      "metadata": {
        "id": "xI80Oo8Z369D"
      }
    },
    {
      "cell_type": "markdown",
      "source": [
        "**Increase the current number of nodes in the layer to 256**"
      ],
      "metadata": {
        "id": "AovCNSY4_1l5"
      }
    },
    {
      "cell_type": "markdown",
      "source": [
        "Hypothesis-\n",
        "It is expected that increasing  the numbert of nodes within the model would lead to improved outcomes, as this increase in nodes enhances the model's capability to encapsulate complex interactions among the input variables, thereby strengthening its representational power."
      ],
      "metadata": {
        "id": "ZxvGpwxaAB3R"
      }
    },
    {
      "cell_type": "markdown",
      "source": [
        "# **Step-5**"
      ],
      "metadata": {
        "id": "ijuQJA3xA39q"
      }
    },
    {
      "cell_type": "code",
      "source": [
        "import torch\n",
        "import torch.nn as nn\n",
        "import torch.optim as optim\n",
        "\n",
        "# Define an enhanced neural network architecture\n",
        "class EnhancedMLP(nn.Module):\n",
        "    def __init__(self):\n",
        "        super(EnhancedMLP, self).__init__()\n",
        "        # Adjusting layer sizes as per proposed modification\n",
        "        self.dense1 = nn.Linear(784, 256)  # From input images to hidden layer 1\n",
        "        self.dense2 = nn.Linear(256, 256)  # Hidden layer 1 to hidden layer 2\n",
        "        self.dense3 = nn.Linear(256, 10)   # Hidden layer 2 to output layer\n",
        "\n",
        "    def forward(self, x):\n",
        "        # Flatten the input and pass through the network\n",
        "        x = x.view(-1, 784)  # Flatten image to 1D tensor\n",
        "        x = torch.relu(self.dense1(x))\n",
        "        x = torch.relu(self.dense2(x))\n",
        "        x = self.dense3(x)\n",
        "        return x\n",
        "\n",
        "# Initialize the enhanced model\n",
        "enhanced_model = EnhancedMLP()\n",
        "\n",
        "# Setup the loss function and optimizer\n",
        "loss_function = nn.CrossEntropyLoss()\n",
        "optimizer = optim.Adam(enhanced_model.parameters(), lr=0.001)\n",
        "\n",
        "# Training the enhanced neural network\n",
        "epochs = 10\n",
        "for epoch in range(epochs):\n",
        "    enhanced_model.train()\n",
        "    epoch_loss = 0.0\n",
        "    for i, (inputs, targets) in enumerate(train_loader):\n",
        "        optimizer.zero_grad()\n",
        "        outputs = enhanced_model(inputs)\n",
        "        loss = loss_function(outputs, targets)\n",
        "        loss.backward()\n",
        "        optimizer.step()\n",
        "        epoch_loss += loss.item()\n",
        "        if i % 100 == 99:\n",
        "            print(f'Epoch {epoch + 1}, Step {i + 1}: Avg Loss = {epoch_loss / 100:.4f}')\n",
        "            epoch_loss = 0.0\n",
        "\n",
        "print('Training Complete')\n",
        "\n",
        "# Evaluating the model's performance on the training set\n",
        "enhanced_model.eval()\n",
        "train_correct, train_total = 0, 0\n",
        "with torch.no_grad():\n",
        "    for inputs, targets in train_loader:\n",
        "        outputs = enhanced_model(inputs)\n",
        "        _, predictions = torch.max(outputs, 1)\n",
        "        train_total += targets.size(0)\n",
        "        train_correct += (predictions == targets).sum().item()\n",
        "print(f'\\nTraining Set Accuracy: {train_correct / train_total * 100:.2f}%')\n",
        "\n",
        "# Evaluating the model's performance on the test set\n",
        "test_correct, test_total = 0, 0\n",
        "with torch.no_grad():\n",
        "    for inputs, targets in test_loader:\n",
        "        outputs = enhanced_model(inputs)\n",
        "        _, predictions = torch.max(outputs, 1)\n",
        "        test_total += targets.size(0)\n",
        "        test_correct += (predictions == targets).sum().item()\n",
        "print(f'\\nTest Set Accuracy: {test_correct / test_total * 100:.2f}%')\n"
      ],
      "metadata": {
        "colab": {
          "base_uri": "https://localhost:8080/"
        },
        "id": "TmKY2Flk37VY",
        "outputId": "80440c5d-be0c-4e46-fa86-ba1bf50fb2de"
      },
      "execution_count": 21,
      "outputs": [
        {
          "output_type": "stream",
          "name": "stdout",
          "text": [
            "Epoch 1, Step 100: Avg Loss = 0.8546\n",
            "Epoch 1, Step 200: Avg Loss = 0.3999\n",
            "Epoch 1, Step 300: Avg Loss = 0.3522\n",
            "Epoch 1, Step 400: Avg Loss = 0.2904\n",
            "Epoch 1, Step 500: Avg Loss = 0.2483\n",
            "Epoch 1, Step 600: Avg Loss = 0.2401\n",
            "Epoch 1, Step 700: Avg Loss = 0.1913\n",
            "Epoch 1, Step 800: Avg Loss = 0.1940\n",
            "Epoch 1, Step 900: Avg Loss = 0.1963\n",
            "Epoch 2, Step 100: Avg Loss = 0.1636\n",
            "Epoch 2, Step 200: Avg Loss = 0.1513\n",
            "Epoch 2, Step 300: Avg Loss = 0.1379\n",
            "Epoch 2, Step 400: Avg Loss = 0.1615\n",
            "Epoch 2, Step 500: Avg Loss = 0.1563\n",
            "Epoch 2, Step 600: Avg Loss = 0.1292\n",
            "Epoch 2, Step 700: Avg Loss = 0.1383\n",
            "Epoch 2, Step 800: Avg Loss = 0.1369\n",
            "Epoch 2, Step 900: Avg Loss = 0.1257\n",
            "Epoch 3, Step 100: Avg Loss = 0.1124\n",
            "Epoch 3, Step 200: Avg Loss = 0.1148\n",
            "Epoch 3, Step 300: Avg Loss = 0.1098\n",
            "Epoch 3, Step 400: Avg Loss = 0.1108\n",
            "Epoch 3, Step 500: Avg Loss = 0.1045\n",
            "Epoch 3, Step 600: Avg Loss = 0.1130\n",
            "Epoch 3, Step 700: Avg Loss = 0.0917\n",
            "Epoch 3, Step 800: Avg Loss = 0.1015\n",
            "Epoch 3, Step 900: Avg Loss = 0.1022\n",
            "Epoch 4, Step 100: Avg Loss = 0.0737\n",
            "Epoch 4, Step 200: Avg Loss = 0.0954\n",
            "Epoch 4, Step 300: Avg Loss = 0.0766\n",
            "Epoch 4, Step 400: Avg Loss = 0.0723\n",
            "Epoch 4, Step 500: Avg Loss = 0.0930\n",
            "Epoch 4, Step 600: Avg Loss = 0.0850\n",
            "Epoch 4, Step 700: Avg Loss = 0.0850\n",
            "Epoch 4, Step 800: Avg Loss = 0.0884\n",
            "Epoch 4, Step 900: Avg Loss = 0.0894\n",
            "Epoch 5, Step 100: Avg Loss = 0.0696\n",
            "Epoch 5, Step 200: Avg Loss = 0.0850\n",
            "Epoch 5, Step 300: Avg Loss = 0.0607\n",
            "Epoch 5, Step 400: Avg Loss = 0.0822\n",
            "Epoch 5, Step 500: Avg Loss = 0.0802\n",
            "Epoch 5, Step 600: Avg Loss = 0.0713\n",
            "Epoch 5, Step 700: Avg Loss = 0.0779\n",
            "Epoch 5, Step 800: Avg Loss = 0.0789\n",
            "Epoch 5, Step 900: Avg Loss = 0.0755\n",
            "Epoch 6, Step 100: Avg Loss = 0.0648\n",
            "Epoch 6, Step 200: Avg Loss = 0.0495\n",
            "Epoch 6, Step 300: Avg Loss = 0.0698\n",
            "Epoch 6, Step 400: Avg Loss = 0.0544\n",
            "Epoch 6, Step 500: Avg Loss = 0.0544\n",
            "Epoch 6, Step 600: Avg Loss = 0.0745\n",
            "Epoch 6, Step 700: Avg Loss = 0.0748\n",
            "Epoch 6, Step 800: Avg Loss = 0.0685\n",
            "Epoch 6, Step 900: Avg Loss = 0.0688\n",
            "Epoch 7, Step 100: Avg Loss = 0.0495\n",
            "Epoch 7, Step 200: Avg Loss = 0.0480\n",
            "Epoch 7, Step 300: Avg Loss = 0.0469\n",
            "Epoch 7, Step 400: Avg Loss = 0.0639\n",
            "Epoch 7, Step 500: Avg Loss = 0.0646\n",
            "Epoch 7, Step 600: Avg Loss = 0.0543\n",
            "Epoch 7, Step 700: Avg Loss = 0.0572\n",
            "Epoch 7, Step 800: Avg Loss = 0.0678\n",
            "Epoch 7, Step 900: Avg Loss = 0.0643\n",
            "Epoch 8, Step 100: Avg Loss = 0.0502\n",
            "Epoch 8, Step 200: Avg Loss = 0.0493\n",
            "Epoch 8, Step 300: Avg Loss = 0.0436\n",
            "Epoch 8, Step 400: Avg Loss = 0.0495\n",
            "Epoch 8, Step 500: Avg Loss = 0.0450\n",
            "Epoch 8, Step 600: Avg Loss = 0.0501\n",
            "Epoch 8, Step 700: Avg Loss = 0.0596\n",
            "Epoch 8, Step 800: Avg Loss = 0.0527\n",
            "Epoch 8, Step 900: Avg Loss = 0.0525\n",
            "Epoch 9, Step 100: Avg Loss = 0.0305\n",
            "Epoch 9, Step 200: Avg Loss = 0.0377\n",
            "Epoch 9, Step 300: Avg Loss = 0.0329\n",
            "Epoch 9, Step 400: Avg Loss = 0.0472\n",
            "Epoch 9, Step 500: Avg Loss = 0.0504\n",
            "Epoch 9, Step 600: Avg Loss = 0.0518\n",
            "Epoch 9, Step 700: Avg Loss = 0.0472\n",
            "Epoch 9, Step 800: Avg Loss = 0.0504\n",
            "Epoch 9, Step 900: Avg Loss = 0.0539\n",
            "Epoch 10, Step 100: Avg Loss = 0.0312\n",
            "Epoch 10, Step 200: Avg Loss = 0.0389\n",
            "Epoch 10, Step 300: Avg Loss = 0.0408\n",
            "Epoch 10, Step 400: Avg Loss = 0.0305\n",
            "Epoch 10, Step 500: Avg Loss = 0.0489\n",
            "Epoch 10, Step 600: Avg Loss = 0.0543\n",
            "Epoch 10, Step 700: Avg Loss = 0.0380\n",
            "Epoch 10, Step 800: Avg Loss = 0.0515\n",
            "Epoch 10, Step 900: Avg Loss = 0.0517\n",
            "Training Complete\n",
            "\n",
            "Training Set Accuracy: 99.01%\n",
            "\n",
            "Test Set Accuracy: 97.31%\n"
          ]
        }
      ]
    },
    {
      "cell_type": "markdown",
      "source": [
        "# **Step-6**"
      ],
      "metadata": {
        "id": "aQNpzychBFyD"
      }
    },
    {
      "cell_type": "markdown",
      "source": [
        "Training Set Accuracy: 99.01%\n",
        "\n",
        "Test Set Accuracy: 97.31%\n",
        "\n",
        "As we can see,increasing the number of nodes increases the accuracy slightly\n"
      ],
      "metadata": {
        "id": "wem5ZNFkBMNk"
      }
    },
    {
      "cell_type": "markdown",
      "source": [
        "# **Step-7**"
      ],
      "metadata": {
        "id": "bnzDiK3fB8zg"
      }
    },
    {
      "cell_type": "markdown",
      "source": [
        "Experiment with different optimizers, loss functions, dropout, and activation functions, and observe the change in performance as you tune these hyperparameters."
      ],
      "metadata": {
        "id": "OT4xWzt-CBvo"
      }
    },
    {
      "cell_type": "markdown",
      "source": [
        "**Experiment-1**\n",
        "Using SGD optimizer instead of Adam"
      ],
      "metadata": {
        "id": "buA7I6LqCILT"
      }
    },
    {
      "cell_type": "code",
      "source": [
        "import torch\n",
        "import torch.nn as nn\n",
        "import torch.optim as optim\n",
        "\n",
        "# Define the neural network architecture with the original configuration\n",
        "class EnhancedMLP(nn.Module):\n",
        "    def __init__(self):\n",
        "        super(EnhancedMLP, self).__init__()\n",
        "        self.dense1 = nn.Linear(784, 256)\n",
        "        self.dense2 = nn.Linear(256, 256)\n",
        "        self.dense3 = nn.Linear(256, 10)\n",
        "\n",
        "    def forward(self, x):\n",
        "        x = x.view(-1, 784)\n",
        "        x = torch.relu(self.dense1(x))\n",
        "        x = torch.relu(self.dense2(x))\n",
        "        x = self.dense3(x)\n",
        "        return x\n",
        "\n",
        "# Initialize the model\n",
        "model_exp1 = EnhancedMLP()\n",
        "\n",
        "# Setup the loss function\n",
        "loss_function = nn.CrossEntropyLoss()\n",
        "\n",
        "# Use SGD optimizer instead of Adam\n",
        "optimizer = optim.SGD(model_exp1.parameters(), lr=0.01, momentum=0.9)\n",
        "\n",
        "# Placeholder for train_loader and test_loader\n",
        "# Assuming train_loader and test_loader are predefined\n",
        "\n",
        "# Training loop\n",
        "epochs = 10\n",
        "for epoch in range(epochs):\n",
        "    model_exp1.train()\n",
        "    for inputs, targets in train_loader:\n",
        "        optimizer.zero_grad()\n",
        "        outputs = model_exp1(inputs)\n",
        "        loss = loss_function(outputs, targets)\n",
        "        loss.backward()\n",
        "        optimizer.step()\n",
        "    print(f'Epoch {epoch + 1} complete.')\n",
        "\n",
        "# Evaluation on training set\n",
        "correct, total = 0, 0\n",
        "model_exp1.eval()\n",
        "with torch.no_grad():\n",
        "    for inputs, targets in train_loader:\n",
        "        outputs = model_exp1(inputs)\n",
        "        _, predicted = torch.max(outputs.data, 1)\n",
        "        total += targets.size(0)\n",
        "        correct += (predicted == targets).sum().item()\n",
        "print(f'\\nTraining Set Accuracy: {100 * correct / total}%')\n",
        "\n",
        "# Evaluation on test set\n",
        "correct, total = 0, 0\n",
        "with torch.no_grad():\n",
        "    for inputs, targets in test_loader:\n",
        "        outputs = model_exp1(inputs)\n",
        "        _, predicted = torch.max(outputs.data, 1)\n",
        "        total += targets.size(0)\n",
        "        correct += (predicted == targets).sum().item()\n",
        "print(f'Test Set Accuracy: {100 * correct / total}%')\n"
      ],
      "metadata": {
        "colab": {
          "base_uri": "https://localhost:8080/"
        },
        "id": "l5vpEkyb68Hz",
        "outputId": "4749732a-efed-4610-d264-4a5e747f2df5"
      },
      "execution_count": 22,
      "outputs": [
        {
          "output_type": "stream",
          "name": "stdout",
          "text": [
            "Epoch 1 complete.\n",
            "Epoch 2 complete.\n",
            "Epoch 3 complete.\n",
            "Epoch 4 complete.\n",
            "Epoch 5 complete.\n",
            "Epoch 6 complete.\n",
            "Epoch 7 complete.\n",
            "Epoch 8 complete.\n",
            "Epoch 9 complete.\n",
            "Epoch 10 complete.\n",
            "\n",
            "Training Set Accuracy: 99.155%\n",
            "Test Set Accuracy: 97.50166666666667%\n"
          ]
        }
      ]
    },
    {
      "cell_type": "markdown",
      "source": [
        "**Observation: There is a slight change in model performance.**"
      ],
      "metadata": {
        "id": "klrkshEVDL9U"
      }
    },
    {
      "cell_type": "markdown",
      "source": [
        "**Experiment-2**\n",
        "Introducing Dropout and Using LeakyReLU Activation Function"
      ],
      "metadata": {
        "id": "5hng2SiyCeOD"
      }
    },
    {
      "cell_type": "code",
      "source": [
        "\n",
        "# Define the enhanced neural network architecture with dropout and LeakyReLU\n",
        "class EnhancedMLPWithDropoutAndLeakyReLU(nn.Module):\n",
        "    def __init__(self):\n",
        "        super(EnhancedMLPWithDropoutAndLeakyReLU, self).__init__()\n",
        "        self.dense1 = nn.Linear(784, 256)\n",
        "        self.dropout1 = nn.Dropout(0.5)  # Add dropout with a probability of 0.5\n",
        "        self.dense2 = nn.Linear(256, 256)\n",
        "        self.dropout2 = nn.Dropout(0.5)  # Add another dropout layer\n",
        "        self.dense3 = nn.Linear(256, 10)\n",
        "\n",
        "    def forward(self, x):\n",
        "        x = x.view(-1, 784)\n",
        "        x = torch.nn.functional.leaky_relu(self.dense1(x))  # Use LeakyReLU\n",
        "        x = self.dropout1(x)\n",
        "        x = torch.nn.functional.leaky_relu(self.dense2(x))  # Use LeakyReLU again\n",
        "        x = self.dropout2(x)\n",
        "        x = self.dense3(x)\n",
        "        return x\n",
        "\n",
        "# Initialize the model with dropout and LeakyReLU\n",
        "model_exp2 = EnhancedMLPWithDropoutAndLeakyReLU()\n",
        "\n",
        "# Setup the loss function\n",
        "loss_function = nn.CrossEntropyLoss()\n",
        "\n",
        "# Use Adam optimizer (or any other optimizer of choice)\n",
        "optimizer = optim.Adam(model_exp2.parameters(), lr=0.001)\n",
        "\n",
        "# Placeholder for train_loader and test_loader\n",
        "\n",
        "# Training loop\n",
        "epochs = 10\n",
        "for epoch in range(epochs):\n",
        "    model_exp2.train()\n",
        "    for inputs, targets in train_loader:\n",
        "        optimizer.zero_grad()\n",
        "        outputs = model_exp2(inputs)\n",
        "        loss = loss_function(outputs, targets)\n",
        "        loss.backward()\n",
        "        optimizer.step()\n",
        "    print(f'Epoch {epoch + 1} complete.')\n",
        "\n",
        "# Evaluation on training set\n",
        "correct, total = 0, 0\n",
        "model_exp2.eval()\n",
        "with torch.no_grad():\n",
        "    for inputs, targets in train_loader:\n",
        "        outputs = model_exp2(inputs)\n",
        "        _, predicted = torch.max(outputs.data, 1)\n",
        "        total += targets.size(0)\n",
        "        correct += (predicted == targets).sum().item()\n",
        "print(f'\\nTraining Set Accuracy: {100 * correct / total}%')\n",
        "\n",
        "# Evaluation on test set\n",
        "correct, total = 0, 0\n",
        "with torch.no_grad():\n",
        "    for inputs, targets in test_loader:\n",
        "        outputs = model_exp2(inputs)\n",
        "        _, predicted = torch.max(outputs.data, 1)\n",
        "        total += targets.size(0)\n",
        "        correct += (predicted == targets).sum().item()\n",
        "print(f'Test Set Accuracy: {100 * correct / total}%')\n"
      ],
      "metadata": {
        "colab": {
          "base_uri": "https://localhost:8080/"
        },
        "id": "hOjsmxrC7481",
        "outputId": "309f0a42-d922-4c56-b0b5-e1e6d3471e4d"
      },
      "execution_count": 23,
      "outputs": [
        {
          "output_type": "stream",
          "name": "stdout",
          "text": [
            "Epoch 1 complete.\n",
            "Epoch 2 complete.\n",
            "Epoch 3 complete.\n",
            "Epoch 4 complete.\n",
            "Epoch 5 complete.\n",
            "Epoch 6 complete.\n",
            "Epoch 7 complete.\n",
            "Epoch 8 complete.\n",
            "Epoch 9 complete.\n",
            "Epoch 10 complete.\n",
            "\n",
            "Training Set Accuracy: 97.375%\n",
            "Test Set Accuracy: 96.58%\n"
          ]
        }
      ]
    },
    {
      "cell_type": "markdown",
      "source": [
        "**Observation: There is a decrease in model performance.**"
      ],
      "metadata": {
        "id": "PLxSFb6GDW6M"
      }
    },
    {
      "cell_type": "markdown",
      "source": [
        "**Experiment-3**\n",
        "Adding Batch Normalization and Changing to the RMSprop Optimizer\n"
      ],
      "metadata": {
        "id": "lJq0zrpMCzHU"
      }
    },
    {
      "cell_type": "code",
      "source": [
        "import torch\n",
        "import torch.nn as nn\n",
        "import torch.optim as optim\n",
        "\n",
        "class EnhancedMLPWithBatchNorm(nn.Module):\n",
        "    def __init__(self):\n",
        "        super(EnhancedMLPWithBatchNorm, self).__init__()\n",
        "        self.dense1 = nn.Linear(784, 256)\n",
        "        self.bn1 = nn.BatchNorm1d(256)  # Batch Normalization layer for first dense layer\n",
        "        self.dense2 = nn.Linear(256, 256)\n",
        "        self.bn2 = nn.BatchNorm1d(256)  # Batch Normalization layer for second dense layer\n",
        "        self.dense3 = nn.Linear(256, 10)\n",
        "\n",
        "    def forward(self, x):\n",
        "        x = x.view(-1, 784)\n",
        "        x = self.bn1(self.dense1(x))\n",
        "        x = torch.relu(x)\n",
        "        x = self.bn2(self.dense2(x))\n",
        "        x = torch.relu(x)\n",
        "        x = self.dense3(x)\n",
        "        return x\n",
        "\n",
        "# Initialize the model with batch normalization\n",
        "model_exp3 = EnhancedMLPWithBatchNorm()\n",
        "\n",
        "# Setup the loss function\n",
        "loss_function = nn.CrossEntropyLoss()\n",
        "\n",
        "# Use RMSprop optimizer\n",
        "optimizer = optim.RMSprop(model_exp3.parameters(), lr=0.001)\n",
        "\n",
        "# Training loop\n",
        "epochs = 10\n",
        "for epoch in range(epochs):\n",
        "    model_exp3.train()\n",
        "    for inputs, targets in train_loader:\n",
        "        optimizer.zero_grad()\n",
        "        outputs = model_exp3(inputs)\n",
        "        loss = loss_function(outputs, targets)\n",
        "        loss.backward()\n",
        "        optimizer.step()\n",
        "    print(f'Epoch {epoch + 1} complete.')\n",
        "\n",
        "# Evaluation on training set\n",
        "correct, total = 0, 0\n",
        "model_exp3.eval()\n",
        "with torch.no_grad():\n",
        "    for inputs, targets in train_loader:\n",
        "        outputs = model_exp3(inputs)\n",
        "        _, predicted = torch.max(outputs.data, 1)\n",
        "        total += targets.size(0)\n",
        "        correct += (predicted == targets).sum().item()\n",
        "print(f'\\nTraining Set Accuracy: {100 * correct / total}%')\n",
        "\n",
        "# Evaluation on test set\n",
        "correct, total = 0, 0\n",
        "with torch.no_grad():\n",
        "    for inputs, targets in test_loader:\n",
        "        outputs = model_exp3(inputs)\n",
        "        _, predicted = torch.max(outputs.data, 1)\n",
        "        total += targets.size(0)\n",
        "        correct += (predicted == targets).sum().item()\n",
        "print(f'Test Set Accuracy: {100 * correct / total}%')\n"
      ],
      "metadata": {
        "colab": {
          "base_uri": "https://localhost:8080/"
        },
        "id": "di42rrMy9YLx",
        "outputId": "73422e84-4ed8-463f-fa40-8ba27621192b"
      },
      "execution_count": 24,
      "outputs": [
        {
          "output_type": "stream",
          "name": "stdout",
          "text": [
            "Epoch 1 complete.\n",
            "Epoch 2 complete.\n",
            "Epoch 3 complete.\n",
            "Epoch 4 complete.\n",
            "Epoch 5 complete.\n",
            "Epoch 6 complete.\n",
            "Epoch 7 complete.\n",
            "Epoch 8 complete.\n",
            "Epoch 9 complete.\n",
            "Epoch 10 complete.\n",
            "\n",
            "Training Set Accuracy: 99.725%\n",
            "Test Set Accuracy: 97.95166666666667%\n"
          ]
        }
      ]
    },
    {
      "cell_type": "markdown",
      "source": [
        "**Observation:Model performance increases.**"
      ],
      "metadata": {
        "id": "7P1C1wO0DiwC"
      }
    }
  ]
}